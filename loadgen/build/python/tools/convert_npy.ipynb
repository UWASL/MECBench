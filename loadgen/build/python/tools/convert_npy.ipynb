{
 "cells": [
  {
   "cell_type": "code",
   "execution_count": 1,
   "metadata": {},
   "outputs": [],
   "source": [
    "import cv2\n",
    "import numpy as np"
   ]
  },
  {
   "cell_type": "code",
   "execution_count": 4,
   "metadata": {},
   "outputs": [],
   "source": [
    "def maybe_resize(img, dims):\n",
    "    img = np.array(img, dtype=np.float32)\n",
    "    if len(img.shape) < 3 or img.shape[2] != 3:\n",
    "        # some images might be grayscale\n",
    "        img = cv2.cvtColor(img, cv2.COLOR_GRAY2RGB)\n",
    "    img = cv2.cvtColor(img, cv2.COLOR_BGR2RGB)\n",
    "    if dims != None:\n",
    "        im_height, im_width, _ = dims\n",
    "        img = cv2.resize(img, (im_width, im_height), interpolation=cv2.INTER_LINEAR)\n",
    "    return img\n",
    "\n",
    "def preprocess(img, dims=None, need_transpose=False):\n",
    "    img = maybe_resize(img, dims)\n",
    "    img = np.asarray(img, dtype=np.uint8)\n",
    "    # transpose if needed\n",
    "    if need_transpose:\n",
    "        img = img.transpose([2, 0, 1])\n",
    "    return img"
   ]
  },
  {
   "cell_type": "code",
   "execution_count": 5,
   "metadata": {},
   "outputs": [],
   "source": [
    "def convert_image(dst_dir, image, name):\n",
    "    processed = preprocess(image, None, False)\n",
    "    # with open(str(dst_dir / name) + \".bytes\", \"wb\") as f:\n",
    "    #     f.write(processed.tobytes())\n",
    "    cv2.imwrite(str(dst_dir / name) + \".jpg\", processed)\n",
    "    return name\n",
    "\n",
    "import tqdm\n",
    "import pathlib\n",
    "import multiprocessing as mp\n",
    "# images_path = pathlib.Path(\"../coco_512/val2017/\")\n",
    "# images = list(images_path.glob(\"*.png\"))\n",
    "# dst_dir = pathlib.Path(\"../coco_512/val2017_bytes/\")\n",
    "# dst_dir.mkdir(exist_ok=True)\n",
    "# # cache a preprocessed version of the image\n",
    "# with mp.Pool(4) as p:\n",
    "#     res = p.imap_unordered(convert_image, images)\n",
    "#     for i in tqdm.tqdm(res, total=len(images)):\n",
    "#         pass\n",
    "    \n"
   ]
  },
  {
   "cell_type": "code",
   "execution_count": 2,
   "metadata": {},
   "outputs": [
    {
     "ename": "NameError",
     "evalue": "name 'pathlib' is not defined",
     "output_type": "error",
     "traceback": [
      "\u001b[0;31m---------------------------------------------------------------------------\u001b[0m",
      "\u001b[0;31mNameError\u001b[0m                                 Traceback (most recent call last)",
      "\u001b[0;32m<ipython-input-2-4bf4eb934c58>\u001b[0m in \u001b[0;36m<module>\u001b[0;34m\u001b[0m\n\u001b[1;32m      2\u001b[0m \u001b[0;32mfrom\u001b[0m \u001b[0mcoco\u001b[0m \u001b[0;32mimport\u001b[0m \u001b[0mCOCO\u001b[0m\u001b[0;34m\u001b[0m\u001b[0;34m\u001b[0m\u001b[0m\n\u001b[1;32m      3\u001b[0m \u001b[0;32mimport\u001b[0m \u001b[0mjson\u001b[0m\u001b[0;34m\u001b[0m\u001b[0;34m\u001b[0m\u001b[0m\n\u001b[0;32m----> 4\u001b[0;31m \u001b[0mimage_dir\u001b[0m \u001b[0;34m=\u001b[0m \u001b[0mpathlib\u001b[0m\u001b[0;34m.\u001b[0m\u001b[0mPath\u001b[0m\u001b[0;34m(\u001b[0m\u001b[0;34m\"./val2017\"\u001b[0m\u001b[0;34m)\u001b[0m\u001b[0;34m\u001b[0m\u001b[0;34m\u001b[0m\u001b[0m\n\u001b[0m\u001b[1;32m      5\u001b[0m \u001b[0mindir\u001b[0m \u001b[0;34m=\u001b[0m \u001b[0mpathlib\u001b[0m\u001b[0;34m.\u001b[0m\u001b[0mPath\u001b[0m\u001b[0;34m(\u001b[0m\u001b[0;34m\".\"\u001b[0m\u001b[0;34m)\u001b[0m\u001b[0;34m\u001b[0m\u001b[0;34m\u001b[0m\u001b[0m\n\u001b[1;32m      6\u001b[0m \u001b[0mannotate_file\u001b[0m \u001b[0;34m=\u001b[0m \u001b[0mpathlib\u001b[0m\u001b[0;34m.\u001b[0m\u001b[0mPath\u001b[0m\u001b[0;34m(\u001b[0m\u001b[0;34m\"./annotations/instances_val2017.json\"\u001b[0m\u001b[0;34m)\u001b[0m\u001b[0;34m\u001b[0m\u001b[0;34m\u001b[0m\u001b[0m\n",
      "\u001b[0;31mNameError\u001b[0m: name 'pathlib' is not defined"
     ]
    }
   ],
   "source": [
    "import os\n",
    "from coco import COCO\n",
    "import json\n",
    "image_dir = pathlib.Path(\"./val2017\")\n",
    "indir = pathlib.Path(\".\")\n",
    "annotate_file = pathlib.Path(\"./annotations/instances_val2017.json\")\n",
    "# sizes = [(512, \"d0\"), (640, \"d1\"), (768, \"d2\"), (896, \"d3\"), (1024, \"d4\")]\n",
    "sizes = [(300, \"onnx\")]\n",
    "\n",
    "\n",
    "\n",
    "# Build directories.\n",
    "fmt = \"png\"\n",
    "def dowork(idx, size):\n",
    "    img = coco.imgs[idx]\n",
    "    # Load, upscale, and save image.\n",
    "    image = cv2.imread(os.path.join(image_in_path, img['file_name']))\n",
    "    if len(image.shape) < 3 or image.shape[2] != 3:\n",
    "        # some images might be grayscale\n",
    "        image = cv2.cvtColor(image, cv2.COLOR_GRAY2RGB)\n",
    "    image = cv2.resize(image, size, interpolation=cv2.INTER_LINEAR)\n",
    "    # cv2.imwrite(os.path.join(image_out_path, img['file_name'][0:-3] + fmt), image)\n",
    "    convert_image(bytes_out_path, image,  img['file_name'])\n",
    "    # Update image file extension\n",
    "    img['file_name'] = img['file_name'][0:-3] + fmt\n",
    "    # Image dimensions\n",
    "    img['width'] = size[0]\n",
    "    img['height'] = size[1]\n",
    "    images.append(img)\n",
    "    del image\n",
    "    return img['file_name']\n",
    "\n",
    "for size, model_name in sizes:\n",
    "    size = (size, size)\n",
    "    outdir = pathlib.Path(f\"./coco_{size[0]}\")\n",
    "    image_in_path = indir/ image_dir\n",
    "    image_out_path = outdir/ image_dir\n",
    "    bytes_out_path = outdir/ (str(image_dir)+\"bytes\")\n",
    "    path, fil = annotate_file.parent, annotate_file.name\n",
    "    annotate_out_path = outdir / path\n",
    "    annotate_out_file = annotate_out_path / fil\n",
    "    annotate_in_file = indir / annotate_file \n",
    "\n",
    "    image_out_path.mkdir(exist_ok=True, parents=True)\n",
    "    annotate_out_path.mkdir(exist_ok=True, parents=True)\n",
    "    bytes_out_path.mkdir(exist_ok=True, parents=True)\n",
    "\n",
    "    # Read annotations.\n",
    "    coco = COCO(str(annotate_in_file))\n",
    "\n",
    "    # Upscale annotations.\n",
    "    print(f'Upscaling annotations for {size}')\n",
    "    annotations = []\n",
    "    for idx in coco.anns:\n",
    "        ann = coco.anns[idx]\n",
    "        # Scaling factors\n",
    "        img = coco.imgs[ann['image_id']]\n",
    "        sx = size[0] / img['width']\n",
    "        sy = size[1] / img['height']\n",
    "        # Bounding boxes\n",
    "        bb = ann['bbox']\n",
    "        bb[0] = bb[0] * sx\n",
    "        bb[1] = bb[1] * sy\n",
    "        bb[2] = bb[2] * sx\n",
    "        bb[3] = bb[3] * sy\n",
    "        # Area\n",
    "        ann['area'] = ann['area'] * sx * sy\n",
    "        annotations.append(ann)\n",
    "\n",
    "    # Upscale images.\n",
    "    print(f'Upscaling images for {size}')\n",
    "    count = 0\n",
    "    images = []\n",
    "    with mp.Pool(4) as p:\n",
    "        res = p.starmap(dowork, zip(coco.imgs.keys(), [size]*len(coco.imgs)))\n",
    "        for _ in tqdm.tqdm(res, total=len(coco.imgs)):\n",
    "            pass\n",
    "            \n",
    "\n",
    "    # Save annotations.\n",
    "    print('Saving annotations...')\n",
    "    with open(annotate_in_file) as f:\n",
    "        dataset = json.load(f)\n",
    "    dataset['images'] = images\n",
    "    dataset['annotations'] = annotations\n",
    "    with open(annotate_out_file, 'w') as outfile:\n",
    "        json.dump(dataset, outfile)\n",
    "    print('Done.')"
   ]
  },
  {
   "cell_type": "code",
   "execution_count": 1,
   "metadata": {},
   "outputs": [],
   "source": [
    "import PIL\n",
    "import matplotlib.pyplot as plt\n",
    "import numpy as np\n",
    "import cv2\n"
   ]
  },
  {
   "cell_type": "code",
   "execution_count": 2,
   "metadata": {},
   "outputs": [],
   "source": [
    "with open(\"./coco_512/val2017bytes/000000000139.jpg.bytes\", 'rb') as f:\n",
    "    data = f.read()\n",
    "    img = np.frombuffer(data, dtype=np.uint8)\n",
    "    img = img.reshape((512, 512, 3))\n",
    "    "
   ]
  },
  {
   "cell_type": "code",
   "execution_count": 3,
   "metadata": {},
   "outputs": [],
   "source": [
    "image = PIL.Image.fromarray(img)"
   ]
  },
  {
   "cell_type": "code",
   "execution_count": 5,
   "metadata": {},
   "outputs": [
    {
     "name": "stdout",
     "output_type": "stream",
     "text": [
      "(300, 300, 3)\n"
     ]
    }
   ],
   "source": [
    "with open(\"./coco_300/val2017bytes/000000000139.jpg.jpg\" , \"rb\") as f:\n",
    "    data = f.read()\n",
    "    img = np.frombuffer(data, dtype=np.uint8)\n",
    "    # img = img.reshape((300, 300, 3))\n",
    "    image = cv2.imdecode(img, cv2.IMREAD_COLOR)\n",
    "    print(image.shape)\n",
    "    PIL.Image.fromarray(image).show()\n",
    "    # image.save(\"./coco_300/val2017bytes/000000000139.jpg.jpg\")\n",
    "    # image.close()"
   ]
  }
 ],
 "metadata": {
  "kernelspec": {
   "display_name": "Python 3.6.9 64-bit",
   "language": "python",
   "name": "python3"
  },
  "language_info": {
   "codemirror_mode": {
    "name": "ipython",
    "version": 3
   },
   "file_extension": ".py",
   "mimetype": "text/x-python",
   "name": "python",
   "nbconvert_exporter": "python",
   "pygments_lexer": "ipython3",
   "version": "3.6.9"
  },
  "orig_nbformat": 4,
  "vscode": {
   "interpreter": {
    "hash": "31f2aee4e71d21fbe5cf8b01ff0e069b9275f58929596ceb00d14d90e3e16cd6"
   }
  }
 },
 "nbformat": 4,
 "nbformat_minor": 2
}
